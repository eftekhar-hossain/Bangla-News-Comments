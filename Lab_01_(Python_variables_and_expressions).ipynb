{
  "nbformat": 4,
  "nbformat_minor": 0,
  "metadata": {
    "colab": {
      "name": "Lab-01 (Python variables and expressions).ipynb",
      "provenance": [],
      "collapsed_sections": [],
      "authorship_tag": "ABX9TyOugFlP4/qFaR85K2w6WaVP",
      "include_colab_link": true
    },
    "kernelspec": {
      "name": "python3",
      "display_name": "Python 3"
    },
    "language_info": {
      "name": "python"
    }
  },
  "cells": [
    {
      "cell_type": "markdown",
      "metadata": {
        "id": "view-in-github",
        "colab_type": "text"
      },
      "source": [
        "<a href=\"https://colab.research.google.com/github/eftekhar-hossain/Bangla-News-Comments/blob/master/Lab_01_(Python_variables_and_expressions).ipynb\" target=\"_parent\"><img src=\"https://colab.research.google.com/assets/colab-badge.svg\" alt=\"Open In Colab\"/></a>"
      ]
    },
    {
      "cell_type": "markdown",
      "metadata": {
        "id": "-UYuDbfvjO50"
      },
      "source": [
        "#ETE-407 Multimedia Communication Sessional\n",
        "\n",
        "Lab-01: **Introduction to Python Variables, Expressions and Statements**\n",
        "\n",
        "\n",
        "> Objective: \n",
        " 1. *Get familiar with the Python variables, expressions and statements as well as different operators and  their various oprerations.*"
      ]
    },
    {
      "cell_type": "markdown",
      "metadata": {
        "id": "siGFB2Uilq8r"
      },
      "source": [
        "**Values and Types**\n",
        "\n",
        "A value is one of the basic things a program works with, like a letter or a number.\n",
        "**`1, 2, and “Hello, World!”`** all are the different values.\n",
        "These values belong to different types: **`2 is an integer`**, and \n",
        "**`“Hello,World!” is a string`**, so called because it contains a `“string”` of letters. \n",
        "**The print statement** is used to print any values. "
      ]
    },
    {
      "cell_type": "code",
      "metadata": {
        "id": "PBalqZPTT6ya",
        "colab": {
          "base_uri": "https://localhost:8080/"
        },
        "outputId": "dcd63143-4fbf-4467-a89d-716abd938cf3"
      },
      "source": [
        " ##   \n",
        "print(4)\n",
        "\n",
        "#If you are not sure what type a value has, the interpreter can tell you.\n",
        "type('Hello, World!')\n",
        "type(17)\n",
        "type(3.2)"
      ],
      "execution_count": 8,
      "outputs": [
        {
          "output_type": "execute_result",
          "data": {
            "text/plain": [
              "int"
            ]
          },
          "metadata": {},
          "execution_count": 8
        }
      ]
    },
    {
      "cell_type": "markdown",
      "metadata": {
        "id": "JiQTfmiKm_5L"
      },
      "source": [
        "What about values like `“17”` and `“3.2”` ? They look like numbers, but they are in\n",
        "quotation marks like strings."
      ]
    },
    {
      "cell_type": "code",
      "metadata": {
        "id": "ez5zSbNmm-xs"
      },
      "source": [
        "type('17')\n",
        "type('3.2')\n",
        "\n",
        "#They’re strings."
      ],
      "execution_count": null,
      "outputs": []
    },
    {
      "cell_type": "markdown",
      "metadata": {
        "id": "k9b7y7m_nPld"
      },
      "source": [
        "**Variables**\n",
        "\n",
        "One of the most powerful features of a programming language is the ability to\n",
        "manipulate variables. A variable is a name that refers to a value.\n",
        "An assignment statement creates new variables and gives them values: You can think of variables as a bag to store books in it and that book can be replaced at any time"
      ]
    },
    {
      "cell_type": "code",
      "metadata": {
        "id": "CAwfDiQtQi9V"
      },
      "source": [
        "number = 10\n",
        "number = 1.1"
      ],
      "execution_count": null,
      "outputs": []
    },
    {
      "cell_type": "code",
      "metadata": {
        "id": "RYhSB7p_nQoa"
      },
      "source": [
        "message = 'And now for something completely different'\n",
        "n = 17\n",
        "pi = 3.1415926535897931\n",
        "# This example makes three assignments. The first assigns a string to a new variable\n",
        "# named message; the second assigns the integer 17 to n; the third assigns the\n",
        "# (approximate) value of π to pi.\n",
        "#To display the value of a variable, you can use a print statement:\n",
        "print(n)\n",
        "\n",
        "print(pi)"
      ],
      "execution_count": null,
      "outputs": []
    },
    {
      "cell_type": "markdown",
      "metadata": {
        "id": "VwRhso0QQ_bj"
      },
      "source": [
        "##Examples"
      ]
    },
    {
      "cell_type": "code",
      "metadata": {
        "id": "SNJ5_DFRQ4B8"
      },
      "source": [
        "#Example 1: Declaring and assigning value to a variable\n",
        "\n",
        "website = \"apple.com\"\n",
        "print(website)"
      ],
      "execution_count": null,
      "outputs": []
    },
    {
      "cell_type": "code",
      "metadata": {
        "id": "QACgJpWCQ8G5"
      },
      "source": [
        "#Example 2: Changing the value of a variable\n",
        "\n",
        "website = \"apple.com\"\n",
        "print(website)\n",
        "\n",
        "# assigning a new value to website\n",
        "website = \"programiz.com\"\n",
        "\n",
        "print(website)"
      ],
      "execution_count": null,
      "outputs": []
    },
    {
      "cell_type": "code",
      "metadata": {
        "id": "YtqHSKfTRGC1"
      },
      "source": [
        "#Example 3: Assigning multiple values to multiple variables\n",
        "\n",
        "a, b, c = 5, 3.2, \"Hello\"\n",
        "\n",
        "print (a)\n",
        "print (b)\n",
        "print (c)"
      ],
      "execution_count": null,
      "outputs": []
    },
    {
      "cell_type": "code",
      "metadata": {
        "id": "Ha70j7byRLlo"
      },
      "source": [
        "# If we want to assign the same value to multiple variables at once, we can do this as:\n",
        "\n",
        "x = y = z = \"same\"\n",
        "\n",
        "print (x)\n",
        "print (y)\n",
        "print (z)"
      ],
      "execution_count": null,
      "outputs": []
    },
    {
      "cell_type": "markdown",
      "metadata": {
        "id": "J0x1s1e-oCIx"
      },
      "source": [
        "**Variable names and keywords**\n",
        "\n",
        "Programmers generally choose names for their variables that are meaningful and\n",
        "document what the variable is used for.\n",
        "\n",
        "Variable names can be arbitrarily long. They can contain both letters and numbers, but they cannot start with a number. It is legal to use uppercase letters, but it is a good idea to begin variable names with a lowercase letter (you’ll see why later).\n",
        "\n",
        "The underscore character **( _ )** can appear in a name. It is often used in names with multiple words, such as **`my_name`** or **`airspeed_of_unladen_swallow`**. \n",
        "\n",
        "Variable names can start with an underscore character, but we generally avoid doing this unless we are writing library code for others to use.\n",
        "If you give a variable an illegal name, you get a syntax error:"
      ]
    },
    {
      "cell_type": "code",
      "metadata": {
        "id": "4myWRbAvoblK"
      },
      "source": [
        "# If you give a variable an illegal name, you get a syntax error:\n",
        "\n",
        "# Illegal variable names\n",
        "\n",
        "76trombones = 'big parade'\n",
        "more@ = 1000000\n",
        "class = 'Advanced Theoretical Zymurgy'\n",
        "\n",
        "\n",
        "# It turns out that class is one of Python’s keywords. The interpreter uses keywords\n",
        "# to recognize the structure of the program, and they cannot be used as variable\n",
        "# names."
      ],
      "execution_count": null,
      "outputs": []
    },
    {
      "cell_type": "markdown",
      "metadata": {
        "id": "-w3xLLw0o9T5"
      },
      "source": [
        "**Python reserves 35 keywords:**\n",
        "\n",
        "`and del from None True`\n",
        "\n",
        "`as elif global nonlocal try`\n",
        "\n",
        "`assert else if not while`\n",
        "\n",
        "`break except import or with`\n",
        "\n",
        "`class False in pass yield`\n",
        "\n",
        "`continue finally is raise async`\n",
        "\n",
        "`def for lambda return await`\n",
        "\n"
      ]
    },
    {
      "cell_type": "markdown",
      "metadata": {
        "id": "cHV3KE1mRn_x"
      },
      "source": [
        "**Type Conversion**\n",
        "\n",
        "The process of converting the value of one data type (integer, string, float, etc.) to another data type is called type conversion. Python has two types of type conversion.\n",
        "\n",
        "1. Implicit Type Conversion\n",
        "2. Explicit Type Conversion\n",
        "\n",
        "**Implicit Type Conversion**\n",
        "\n",
        "In Implicit type conversion, Python automatically converts one data type to another data type. This process doesn't need any user involvement.\n",
        "\n",
        "Let's see an example where Python promotes the conversion of the lower data type (integer) to the higher data type (float) to avoid data loss."
      ]
    },
    {
      "cell_type": "code",
      "metadata": {
        "id": "CIWdi8oOwLsE"
      },
      "source": [
        "type(\"ABC\")"
      ],
      "execution_count": null,
      "outputs": []
    },
    {
      "cell_type": "code",
      "metadata": {
        "id": "_kRk5tXgSDxo"
      },
      "source": [
        "# Example 1: Converting integer to float\n",
        "\n",
        "num_int = 123\n",
        "num_flo = 1.23\n",
        "\n",
        "num_new = num_int + num_flo\n",
        "\n",
        "print(\"datatype of num_int:\",type(num_int))\n",
        "print(\"datatype of num_flo:\",type(num_flo))\n",
        "\n",
        "print(\"Value of num_new:\",num_new)\n",
        "print(\"datatype of num_new:\",type(num_new))"
      ],
      "execution_count": null,
      "outputs": []
    },
    {
      "cell_type": "code",
      "metadata": {
        "id": "H-nZfdOhSAs_"
      },
      "source": [
        "# Example 2: Addition of string(higher) data type and integer(lower) datatype\n",
        "\n",
        "num_int = 123\n",
        "num_str = \"456\"\n",
        "\n",
        "print(\"Data type of num_int:\",type(num_int))\n",
        "print(\"Data type of num_str:\",type(num_str))\n",
        "\n",
        "print(num_int+num_str)"
      ],
      "execution_count": null,
      "outputs": []
    },
    {
      "cell_type": "markdown",
      "metadata": {
        "id": "dKkOimlBSZfI"
      },
      "source": [
        "**Explicit Type Conversion**\n",
        "\n",
        "In Explicit Type Conversion, users convert the data type of an object to required data type. We use the predefined functions like **`int()`**, **`float()`**, **`str()`**, etc to perform explicit type conversion.\n",
        "\n",
        "This type of conversion is also called ***typecasting*** because the user casts (changes) the data type of the objects."
      ]
    },
    {
      "cell_type": "code",
      "metadata": {
        "id": "L5VaS7oYSbo6"
      },
      "source": [
        "#Example 3: Addition of string and integer using explicit conversion\n",
        "\n",
        "num_int = 123\n",
        "num_str = \"456\"\n",
        "\n",
        "print(\"Data type of num_int:\",type(num_int))\n",
        "print(\"Data type of num_str before Type Casting:\",type(num_str))\n",
        "\n",
        "num_str = int(num_str)\n",
        "print(\"Data type of num_str after Type Casting:\",type(num_str))\n",
        "\n",
        "num_sum = num_int + num_str\n",
        "\n",
        "print(\"Sum of num_int and num_str:\",num_sum)\n",
        "print(\"Data type of the sum:\",type(num_sum))"
      ],
      "execution_count": null,
      "outputs": []
    },
    {
      "cell_type": "markdown",
      "metadata": {
        "id": "aWKaq_nzp0WW"
      },
      "source": [
        "**Statement**\n",
        "\n",
        "A statement is a unit of code that the Python interpreter can execute. We have\n",
        "seen two kinds of statements: print being an expression statement and assignment.\n",
        "When you type a statement in interactive mode, the interpreter executes it and\n",
        "displays the result, if there is one."
      ]
    },
    {
      "cell_type": "code",
      "metadata": {
        "id": "DIxB7f4Eo9Bn"
      },
      "source": [
        "print(1)\n",
        "x = 2\n",
        "print(x)"
      ],
      "execution_count": null,
      "outputs": []
    },
    {
      "cell_type": "markdown",
      "metadata": {
        "id": "ycuFa0JVqY_B"
      },
      "source": [
        "**Operators and operands**\n",
        "\n",
        "Operators are special symbols that represent computations like addition and multiplication. The values the operator is applied to are called operands.\n",
        "The operators `+, -, *, /, and **` perform addition, subtraction, multiplication,\n",
        "division, and exponentiation, as in the following examples:"
      ]
    },
    {
      "cell_type": "code",
      "metadata": {
        "id": "zO7hqgahqwCo"
      },
      "source": [
        "20+32\n",
        "5**2\n",
        "(5+9)*(15-7)\n",
        "minute = 59\n",
        "minute/60"
      ],
      "execution_count": null,
      "outputs": []
    },
    {
      "cell_type": "code",
      "metadata": {
        "id": "urp5S3raUjgU"
      },
      "source": [
        "#  Example 1: Arithmetic operators in Python\n",
        "x = 15\n",
        "y = 4\n",
        "\n",
        "# Output: x + y = 19\n",
        "print('x + y =',x+y)\n",
        "\n",
        "# Output: x - y = 11\n",
        "print('x - y =',x-y)\n",
        "\n",
        "# Output: x * y = 60\n",
        "print('x * y =',x*y)\n",
        "\n",
        "# Output: x / y = 3.75\n",
        "print('x / y =',x/y)\n",
        "\n",
        "# Output: x // y = 3\n",
        "print('x // y =',x//y)\n",
        "\n",
        "# Output: x ** y = 50625\n",
        "print('x ** y =',x**y)"
      ],
      "execution_count": null,
      "outputs": []
    },
    {
      "cell_type": "markdown",
      "metadata": {
        "id": "ewwq9pBTrMnk"
      },
      "source": [
        "**Expressions**\n",
        "\n",
        "An expression is a combination of values, variables, and operators. A value all by itself is considered an expression, and so is a variable, so the following are all legal expressions (assuming that the variable x has been assigned a value)"
      ]
    },
    {
      "cell_type": "code",
      "metadata": {
        "id": "G2ljMIhPq3h_"
      },
      "source": [
        "5\n",
        "x = 5\n",
        "x + 1"
      ],
      "execution_count": null,
      "outputs": []
    },
    {
      "cell_type": "code",
      "metadata": {
        "id": "fCtqHBNXreBl"
      },
      "source": [
        "quotient = 7 // 3\n",
        "print(quotient)\n",
        "\n",
        "remainder = 7 % 3\n",
        "print(remainder)\n"
      ],
      "execution_count": null,
      "outputs": []
    },
    {
      "cell_type": "markdown",
      "metadata": {
        "id": "3E8qOM2asArS"
      },
      "source": [
        "**String operations**\n",
        "\n",
        "The `+` operator works with strings, but it is not addition in the mathematical sense.\n",
        "Instead it performs **concatenation**, which means joining the strings by linking them\n",
        "end to end. For example:"
      ]
    },
    {
      "cell_type": "code",
      "metadata": {
        "id": "w8O8Ds8ssJod"
      },
      "source": [
        "first = 10\n",
        "second = 15\n",
        "print(first+second)\n",
        "\n",
        "############\n",
        "first = '100'\n",
        "second = '150'\n",
        "print(first + second)"
      ],
      "execution_count": null,
      "outputs": []
    },
    {
      "cell_type": "code",
      "metadata": {
        "id": "tlQNH5FMyuf1"
      },
      "source": [
        "a = \"Try\"\n",
        "b = \"Catch\"\n",
        "\n",
        "a+' '+b"
      ],
      "execution_count": null,
      "outputs": []
    },
    {
      "cell_type": "markdown",
      "metadata": {
        "id": "qSFIP6bvtO1h"
      },
      "source": [
        "The `*` operator also works with strings by multiplying the content of a string by an integer. For example:\n"
      ]
    },
    {
      "cell_type": "code",
      "metadata": {
        "id": "xaKWXKF8tQln"
      },
      "source": [
        "first = 'Test '\n",
        "second = 3\n",
        "print(first * second)"
      ],
      "execution_count": null,
      "outputs": []
    },
    {
      "cell_type": "markdown",
      "metadata": {
        "id": "ulbz0X43ttVg"
      },
      "source": [
        "**Asking the user for input**\n",
        "\n",
        "Sometimes we would like to take the value for a variable from the user via their\n",
        "keyboard. Python provides a built-in function called **`input`** that gets input from the keyboard\n"
      ]
    },
    {
      "cell_type": "code",
      "metadata": {
        "colab": {
          "base_uri": "https://localhost:8080/"
        },
        "id": "ZeyxcP0PuJeW",
        "outputId": "ad280a44-e78a-4b01-a3ef-c54c75367bbf"
      },
      "source": [
        "inp = input(\"Enter a value \")\n",
        "print(inp)"
      ],
      "execution_count": 36,
      "outputs": [
        {
          "output_type": "stream",
          "name": "stdout",
          "text": [
            "Enter a value aaaab\n",
            "aaaab\n"
          ]
        }
      ]
    },
    {
      "cell_type": "markdown",
      "metadata": {
        "id": "GVwjqoW6TVFs"
      },
      "source": [
        "**Output formatting**\n",
        "\n",
        "Sometimes we would like to format our output to make it look attractive. This can be done by using the **`str.format()`** method. This method is visible to any string object."
      ]
    },
    {
      "cell_type": "code",
      "metadata": {
        "colab": {
          "base_uri": "https://localhost:8080/"
        },
        "id": "dFzEtBjQTNqd",
        "outputId": "fa4f0959-117e-428f-b158-6ec36b3b1700"
      },
      "source": [
        "# one way\n",
        "x = 5 \n",
        "y = 10\n",
        "print('The value of x is {} and y is {}'.format(x,y))\n",
        "\n",
        "#Here, the curly braces {} are used as placeholders. "
      ],
      "execution_count": 41,
      "outputs": [
        {
          "output_type": "stream",
          "name": "stdout",
          "text": [
            "The value of x is 5 and y is 10\n"
          ]
        }
      ]
    },
    {
      "cell_type": "code",
      "metadata": {
        "colab": {
          "base_uri": "https://localhost:8080/"
        },
        "id": "jXNSK81X0xlL",
        "outputId": "ea80396c-76ac-4efc-e5ee-8a35fcc0dd22"
      },
      "source": [
        "# second way\n",
        "x = 5 \n",
        "y = 10\n",
        "print(f'The value of x is {x} and y is {y}')"
      ],
      "execution_count": 40,
      "outputs": [
        {
          "output_type": "stream",
          "name": "stdout",
          "text": [
            "The value of x is 5 and y is 10\n"
          ]
        }
      ]
    },
    {
      "cell_type": "code",
      "metadata": {
        "id": "HY96TFQlTniA"
      },
      "source": [
        "# We can even use keyword arguments to format the string.\n",
        "\n",
        "print('Hello {name}, {greeting}'.format(greeting = 'Goodmorning', name = 'John'))"
      ],
      "execution_count": null,
      "outputs": []
    },
    {
      "cell_type": "code",
      "metadata": {
        "colab": {
          "base_uri": "https://localhost:8080/"
        },
        "id": "dZ9jk7d11yUM",
        "outputId": "ae667688-8b87-43e1-c763-64b68660ee2d"
      },
      "source": [
        "# test\n",
        "a = 5; b=6; c= 10\n",
        "\n",
        "print(f\"The summation of {a},{b}, and {c} =\",a+b+c)"
      ],
      "execution_count": 45,
      "outputs": [
        {
          "output_type": "stream",
          "name": "stdout",
          "text": [
            "The summation of 5,6, and 10 = 21\n"
          ]
        }
      ]
    },
    {
      "cell_type": "code",
      "metadata": {
        "id": "5B6oCi9-UACm"
      },
      "source": [
        "# We can also format strings like the old sprintf() style used in C programming language. \n",
        "# We use the % operator to accomplish this\n",
        "x = 12.3456789\n",
        "print('The value of x is %.2f' %x)\n",
        "print('The value of x is %.4f' %x)\n"
      ],
      "execution_count": null,
      "outputs": []
    },
    {
      "cell_type": "code",
      "metadata": {
        "id": "ExfmhoLB20Zp"
      },
      "source": [
        "# round function\n",
        "round(x,4)"
      ],
      "execution_count": null,
      "outputs": []
    },
    {
      "cell_type": "code",
      "metadata": {
        "id": "OJ-n6LjQ4NCX"
      },
      "source": [
        "# Python math package \n",
        "from math import sqrt,pi\n",
        "sqrt(16)\n",
        "#pi"
      ],
      "execution_count": null,
      "outputs": []
    },
    {
      "cell_type": "markdown",
      "metadata": {
        "id": "HIk12T5avEDe"
      },
      "source": [
        "#Practice Excercises\n",
        "\n",
        "\n",
        "\n",
        "1.   Write a program that uses input to prompt a user for their name and then welcomes them.           \n",
        "```\n",
        "              Enter your name: Shakib\n",
        "              Hello Shakib\n",
        "```\n",
        "\n",
        "2.   Write a program to prompt the user for hours and rate per\n",
        "hour to compute gross pay.\n",
        "```\n",
        "          Enter Hours: 35\n",
        "          Enter Rate: 2.75\n",
        "          Pay : 96.25\n",
        "```\n",
        "\n",
        "3. Write a program which prompts the user for a Celsius temperature, convert the temperature to Fahrenheit, and print out the\n",
        "converted temperature.\n",
        "\n",
        "```\n",
        "          Enter Tempatature in Celsius: 35\n",
        "          Temparature in Farenheit: ???\n",
        "```\n",
        "4. Write a program which prompts the user for the height and width of a rectangle, calculate the area, diagonal, and perimeter.\n",
        "```\n",
        "          Enter Height: 5\n",
        "          Enter Width:  7\n",
        "          Area :  ??\n",
        "          Diagonal: ??\n",
        "          Perimeter: ??\n",
        "```\n",
        "5. Write a Python program to calculate the area of a trapezoid.\n",
        "```\n",
        "          Enter Height: 5\n",
        "          Enter base 1 value:  18\n",
        "          Enter base 2 value:  7\n",
        "          Area :  ??        \n",
        "```\n",
        "6. Write a Python program to calculate surface volume and area of a cylinder.\n",
        "```\n",
        "          Enter Height: 5\n",
        "          Enter radius:  10\n",
        "          Volume: ??\n",
        "          Area :  ??        \n",
        "```\n",
        "7. Write a Python program to calculate arc length of an angle and sector area of a circle.\n",
        "```\n",
        "          Enter Radius: 5\n",
        "          Enter Angle:  60\n",
        "          Arc Length: ??\n",
        "          Sector Area:  ??        \n",
        "```\n"
      ]
    },
    {
      "cell_type": "markdown",
      "metadata": {
        "id": "qrhyKZ3niosh"
      },
      "source": [
        "#References:\n",
        "1. [Programiz.com](https://www.programiz.com/python-programming/operators)\n",
        "2. [Python for Everybody-Coursera](https://www.coursera.org/learn/python)"
      ]
    }
  ]
}