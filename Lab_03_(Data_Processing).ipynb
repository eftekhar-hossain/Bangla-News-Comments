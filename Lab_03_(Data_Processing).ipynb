{
  "nbformat": 4,
  "nbformat_minor": 0,
  "metadata": {
    "colab": {
      "name": "Lab-03_(Data Processing).ipynb",
      "provenance": [],
      "collapsed_sections": [],
      "authorship_tag": "ABX9TyOk4dOG2pSwY8+tkxWhBtRH",
      "include_colab_link": true
    },
    "kernelspec": {
      "name": "python3",
      "display_name": "Python 3"
    },
    "language_info": {
      "name": "python"
    }
  },
  "cells": [
    {
      "cell_type": "markdown",
      "metadata": {
        "id": "view-in-github",
        "colab_type": "text"
      },
      "source": [
        "<a href=\"https://colab.research.google.com/github/eftekhar-hossain/Bangla-News-Comments/blob/master/Lab_03_(Data_Processing).ipynb\" target=\"_parent\"><img src=\"https://colab.research.google.com/assets/colab-badge.svg\" alt=\"Open In Colab\"/></a>"
      ]
    },
    {
      "cell_type": "markdown",
      "metadata": {
        "id": "Q30pJUgw60mX"
      },
      "source": [
        "#ETE-456 Machine Learning Sessional\n",
        "\n",
        "Lab-03: **Data Preprocessing**\n",
        "\n",
        "> Objective: \n",
        " 1. *Preprocess the data before feeding into the ML models.*\n",
        "\n"
      ]
    },
    {
      "cell_type": "code",
      "metadata": {
        "id": "sr74smUBlWw7"
      },
      "source": [
        "import warnings\n",
        "warnings.filterwarnings(\"ignore\")"
      ],
      "execution_count": 1,
      "outputs": []
    },
    {
      "cell_type": "markdown",
      "metadata": {
        "id": "ACPzUHjSiCsH"
      },
      "source": [
        "# Import the libraries"
      ]
    },
    {
      "cell_type": "code",
      "metadata": {
        "id": "O_zWgw13iDPA"
      },
      "source": [
        "import numpy as np          # used for mathmatical functions\n",
        "import matplotlib.pyplot as plt       #used for ploting\n",
        "import pandas as pd           # used for importing & managing the database"
      ],
      "execution_count": 4,
      "outputs": []
    },
    {
      "cell_type": "markdown",
      "metadata": {
        "id": "KjNpONjqiK0f"
      },
      "source": [
        "#Dataset"
      ]
    },
    {
      "cell_type": "code",
      "metadata": {
        "id": "-l8pYv-dhhk9",
        "colab": {
          "base_uri": "https://localhost:8080/"
        },
        "outputId": "d2220979-8b65-43e5-d9d7-5c947a6b1b5c"
      },
      "source": [
        "# Download the data\n",
        "!wget -O Data.csv https://www.dropbox.com/s/qxz032vedcw4yl0/Data.csv?dl=0"
      ],
      "execution_count": 2,
      "outputs": [
        {
          "output_type": "stream",
          "name": "stdout",
          "text": [
            "--2021-11-24 03:21:28--  https://www.dropbox.com/s/qxz032vedcw4yl0/Data.csv?dl=0\n",
            "Resolving www.dropbox.com (www.dropbox.com)... 162.125.2.18, 2620:100:6017:18::a27d:212\n",
            "Connecting to www.dropbox.com (www.dropbox.com)|162.125.2.18|:443... connected.\n",
            "HTTP request sent, awaiting response... 301 Moved Permanently\n",
            "Location: /s/raw/qxz032vedcw4yl0/Data.csv [following]\n",
            "--2021-11-24 03:21:28--  https://www.dropbox.com/s/raw/qxz032vedcw4yl0/Data.csv\n",
            "Reusing existing connection to www.dropbox.com:443.\n",
            "HTTP request sent, awaiting response... 302 Found\n",
            "Location: https://uc64b94c4ca29751b488fa0f4f43.dl.dropboxusercontent.com/cd/0/inline/BagM7pFRfG3ISZX7x1OGKnq95E34B1wUU3wAFUC6n9IG2x1DwDFq5vo8ZrvrRDS7CBudjJBkNZxqZH_QSTz33DIOMWYILo-u9g10mLegXzAs0pl8hpCXq_p3uonunTWQNEkVxubtjuJr9bmjqg3UbKjj/file# [following]\n",
            "--2021-11-24 03:21:28--  https://uc64b94c4ca29751b488fa0f4f43.dl.dropboxusercontent.com/cd/0/inline/BagM7pFRfG3ISZX7x1OGKnq95E34B1wUU3wAFUC6n9IG2x1DwDFq5vo8ZrvrRDS7CBudjJBkNZxqZH_QSTz33DIOMWYILo-u9g10mLegXzAs0pl8hpCXq_p3uonunTWQNEkVxubtjuJr9bmjqg3UbKjj/file\n",
            "Resolving uc64b94c4ca29751b488fa0f4f43.dl.dropboxusercontent.com (uc64b94c4ca29751b488fa0f4f43.dl.dropboxusercontent.com)... 162.125.2.15, 2620:100:6017:15::a27d:20f\n",
            "Connecting to uc64b94c4ca29751b488fa0f4f43.dl.dropboxusercontent.com (uc64b94c4ca29751b488fa0f4f43.dl.dropboxusercontent.com)|162.125.2.15|:443... connected.\n",
            "HTTP request sent, awaiting response... 200 OK\n",
            "Length: 226 [text/plain]\n",
            "Saving to: ‘Data.csv’\n",
            "\n",
            "Data.csv            100%[===================>]     226  --.-KB/s    in 0s      \n",
            "\n",
            "2021-11-24 03:21:29 (30.9 MB/s) - ‘Data.csv’ saved [226/226]\n",
            "\n"
          ]
        }
      ]
    },
    {
      "cell_type": "code",
      "metadata": {
        "colab": {
          "base_uri": "https://localhost:8080/",
          "height": 363
        },
        "id": "pAob0RHGiRjq",
        "outputId": "bc7b958b-5cde-4aa8-aecd-c75de9052e5f"
      },
      "source": [
        "\"\"\"importing the dataset \"\"\"\n",
        "\n",
        "dataset = pd.read_csv('Data.csv')\n",
        "dataset"
      ],
      "execution_count": 5,
      "outputs": [
        {
          "output_type": "execute_result",
          "data": {
            "text/html": [
              "<div>\n",
              "<style scoped>\n",
              "    .dataframe tbody tr th:only-of-type {\n",
              "        vertical-align: middle;\n",
              "    }\n",
              "\n",
              "    .dataframe tbody tr th {\n",
              "        vertical-align: top;\n",
              "    }\n",
              "\n",
              "    .dataframe thead th {\n",
              "        text-align: right;\n",
              "    }\n",
              "</style>\n",
              "<table border=\"1\" class=\"dataframe\">\n",
              "  <thead>\n",
              "    <tr style=\"text-align: right;\">\n",
              "      <th></th>\n",
              "      <th>Country</th>\n",
              "      <th>Age</th>\n",
              "      <th>Salary</th>\n",
              "      <th>Purchased</th>\n",
              "    </tr>\n",
              "  </thead>\n",
              "  <tbody>\n",
              "    <tr>\n",
              "      <th>0</th>\n",
              "      <td>France</td>\n",
              "      <td>44.0</td>\n",
              "      <td>72000.0</td>\n",
              "      <td>No</td>\n",
              "    </tr>\n",
              "    <tr>\n",
              "      <th>1</th>\n",
              "      <td>Spain</td>\n",
              "      <td>27.0</td>\n",
              "      <td>48000.0</td>\n",
              "      <td>Yes</td>\n",
              "    </tr>\n",
              "    <tr>\n",
              "      <th>2</th>\n",
              "      <td>Germany</td>\n",
              "      <td>30.0</td>\n",
              "      <td>54000.0</td>\n",
              "      <td>No</td>\n",
              "    </tr>\n",
              "    <tr>\n",
              "      <th>3</th>\n",
              "      <td>Spain</td>\n",
              "      <td>38.0</td>\n",
              "      <td>61000.0</td>\n",
              "      <td>No</td>\n",
              "    </tr>\n",
              "    <tr>\n",
              "      <th>4</th>\n",
              "      <td>Germany</td>\n",
              "      <td>40.0</td>\n",
              "      <td>NaN</td>\n",
              "      <td>Yes</td>\n",
              "    </tr>\n",
              "    <tr>\n",
              "      <th>5</th>\n",
              "      <td>France</td>\n",
              "      <td>35.0</td>\n",
              "      <td>58000.0</td>\n",
              "      <td>Yes</td>\n",
              "    </tr>\n",
              "    <tr>\n",
              "      <th>6</th>\n",
              "      <td>Spain</td>\n",
              "      <td>NaN</td>\n",
              "      <td>52000.0</td>\n",
              "      <td>No</td>\n",
              "    </tr>\n",
              "    <tr>\n",
              "      <th>7</th>\n",
              "      <td>France</td>\n",
              "      <td>48.0</td>\n",
              "      <td>79000.0</td>\n",
              "      <td>Yes</td>\n",
              "    </tr>\n",
              "    <tr>\n",
              "      <th>8</th>\n",
              "      <td>Germany</td>\n",
              "      <td>50.0</td>\n",
              "      <td>83000.0</td>\n",
              "      <td>No</td>\n",
              "    </tr>\n",
              "    <tr>\n",
              "      <th>9</th>\n",
              "      <td>France</td>\n",
              "      <td>37.0</td>\n",
              "      <td>67000.0</td>\n",
              "      <td>Yes</td>\n",
              "    </tr>\n",
              "  </tbody>\n",
              "</table>\n",
              "</div>"
            ],
            "text/plain": [
              "   Country   Age   Salary Purchased\n",
              "0   France  44.0  72000.0        No\n",
              "1    Spain  27.0  48000.0       Yes\n",
              "2  Germany  30.0  54000.0        No\n",
              "3    Spain  38.0  61000.0        No\n",
              "4  Germany  40.0      NaN       Yes\n",
              "5   France  35.0  58000.0       Yes\n",
              "6    Spain   NaN  52000.0        No\n",
              "7   France  48.0  79000.0       Yes\n",
              "8  Germany  50.0  83000.0        No\n",
              "9   France  37.0  67000.0       Yes"
            ]
          },
          "metadata": {},
          "execution_count": 5
        }
      ]
    },
    {
      "cell_type": "markdown",
      "metadata": {
        "id": "cDR4rhV1ilm-"
      },
      "source": [
        "now we have split the data into independent & dependent variable.\n",
        "\n",
        "independent are those that we are going to used for prediction or are the features.\n",
        "\n",
        "dependent are those that we have to predict"
      ]
    },
    {
      "cell_type": "code",
      "metadata": {
        "id": "ki4sp9QwiuEz"
      },
      "source": [
        "features = dataset[['Country'\t,'Age',\t'Salary']]  # for independent\n",
        "target = dataset[['Purchased']]   # for dependent"
      ],
      "execution_count": 6,
      "outputs": []
    },
    {
      "cell_type": "code",
      "metadata": {
        "colab": {
          "base_uri": "https://localhost:8080/",
          "height": 363
        },
        "id": "4pOhP_o4jKsy",
        "outputId": "62c63f4b-1c69-45d1-e9c5-04098330a055"
      },
      "source": [
        "features"
      ],
      "execution_count": 7,
      "outputs": [
        {
          "output_type": "execute_result",
          "data": {
            "text/html": [
              "<div>\n",
              "<style scoped>\n",
              "    .dataframe tbody tr th:only-of-type {\n",
              "        vertical-align: middle;\n",
              "    }\n",
              "\n",
              "    .dataframe tbody tr th {\n",
              "        vertical-align: top;\n",
              "    }\n",
              "\n",
              "    .dataframe thead th {\n",
              "        text-align: right;\n",
              "    }\n",
              "</style>\n",
              "<table border=\"1\" class=\"dataframe\">\n",
              "  <thead>\n",
              "    <tr style=\"text-align: right;\">\n",
              "      <th></th>\n",
              "      <th>Country</th>\n",
              "      <th>Age</th>\n",
              "      <th>Salary</th>\n",
              "    </tr>\n",
              "  </thead>\n",
              "  <tbody>\n",
              "    <tr>\n",
              "      <th>0</th>\n",
              "      <td>France</td>\n",
              "      <td>44.0</td>\n",
              "      <td>72000.0</td>\n",
              "    </tr>\n",
              "    <tr>\n",
              "      <th>1</th>\n",
              "      <td>Spain</td>\n",
              "      <td>27.0</td>\n",
              "      <td>48000.0</td>\n",
              "    </tr>\n",
              "    <tr>\n",
              "      <th>2</th>\n",
              "      <td>Germany</td>\n",
              "      <td>30.0</td>\n",
              "      <td>54000.0</td>\n",
              "    </tr>\n",
              "    <tr>\n",
              "      <th>3</th>\n",
              "      <td>Spain</td>\n",
              "      <td>38.0</td>\n",
              "      <td>61000.0</td>\n",
              "    </tr>\n",
              "    <tr>\n",
              "      <th>4</th>\n",
              "      <td>Germany</td>\n",
              "      <td>40.0</td>\n",
              "      <td>NaN</td>\n",
              "    </tr>\n",
              "    <tr>\n",
              "      <th>5</th>\n",
              "      <td>France</td>\n",
              "      <td>35.0</td>\n",
              "      <td>58000.0</td>\n",
              "    </tr>\n",
              "    <tr>\n",
              "      <th>6</th>\n",
              "      <td>Spain</td>\n",
              "      <td>NaN</td>\n",
              "      <td>52000.0</td>\n",
              "    </tr>\n",
              "    <tr>\n",
              "      <th>7</th>\n",
              "      <td>France</td>\n",
              "      <td>48.0</td>\n",
              "      <td>79000.0</td>\n",
              "    </tr>\n",
              "    <tr>\n",
              "      <th>8</th>\n",
              "      <td>Germany</td>\n",
              "      <td>50.0</td>\n",
              "      <td>83000.0</td>\n",
              "    </tr>\n",
              "    <tr>\n",
              "      <th>9</th>\n",
              "      <td>France</td>\n",
              "      <td>37.0</td>\n",
              "      <td>67000.0</td>\n",
              "    </tr>\n",
              "  </tbody>\n",
              "</table>\n",
              "</div>"
            ],
            "text/plain": [
              "   Country   Age   Salary\n",
              "0   France  44.0  72000.0\n",
              "1    Spain  27.0  48000.0\n",
              "2  Germany  30.0  54000.0\n",
              "3    Spain  38.0  61000.0\n",
              "4  Germany  40.0      NaN\n",
              "5   France  35.0  58000.0\n",
              "6    Spain   NaN  52000.0\n",
              "7   France  48.0  79000.0\n",
              "8  Germany  50.0  83000.0\n",
              "9   France  37.0  67000.0"
            ]
          },
          "metadata": {},
          "execution_count": 7
        }
      ]
    },
    {
      "cell_type": "code",
      "metadata": {
        "id": "vZsulkurjM-H",
        "colab": {
          "base_uri": "https://localhost:8080/",
          "height": 363
        },
        "outputId": "208dea42-5cde-4304-9334-268cfabfe257"
      },
      "source": [
        "target"
      ],
      "execution_count": 8,
      "outputs": [
        {
          "output_type": "execute_result",
          "data": {
            "text/html": [
              "<div>\n",
              "<style scoped>\n",
              "    .dataframe tbody tr th:only-of-type {\n",
              "        vertical-align: middle;\n",
              "    }\n",
              "\n",
              "    .dataframe tbody tr th {\n",
              "        vertical-align: top;\n",
              "    }\n",
              "\n",
              "    .dataframe thead th {\n",
              "        text-align: right;\n",
              "    }\n",
              "</style>\n",
              "<table border=\"1\" class=\"dataframe\">\n",
              "  <thead>\n",
              "    <tr style=\"text-align: right;\">\n",
              "      <th></th>\n",
              "      <th>Purchased</th>\n",
              "    </tr>\n",
              "  </thead>\n",
              "  <tbody>\n",
              "    <tr>\n",
              "      <th>0</th>\n",
              "      <td>No</td>\n",
              "    </tr>\n",
              "    <tr>\n",
              "      <th>1</th>\n",
              "      <td>Yes</td>\n",
              "    </tr>\n",
              "    <tr>\n",
              "      <th>2</th>\n",
              "      <td>No</td>\n",
              "    </tr>\n",
              "    <tr>\n",
              "      <th>3</th>\n",
              "      <td>No</td>\n",
              "    </tr>\n",
              "    <tr>\n",
              "      <th>4</th>\n",
              "      <td>Yes</td>\n",
              "    </tr>\n",
              "    <tr>\n",
              "      <th>5</th>\n",
              "      <td>Yes</td>\n",
              "    </tr>\n",
              "    <tr>\n",
              "      <th>6</th>\n",
              "      <td>No</td>\n",
              "    </tr>\n",
              "    <tr>\n",
              "      <th>7</th>\n",
              "      <td>Yes</td>\n",
              "    </tr>\n",
              "    <tr>\n",
              "      <th>8</th>\n",
              "      <td>No</td>\n",
              "    </tr>\n",
              "    <tr>\n",
              "      <th>9</th>\n",
              "      <td>Yes</td>\n",
              "    </tr>\n",
              "  </tbody>\n",
              "</table>\n",
              "</div>"
            ],
            "text/plain": [
              "  Purchased\n",
              "0        No\n",
              "1       Yes\n",
              "2        No\n",
              "3        No\n",
              "4       Yes\n",
              "5       Yes\n",
              "6        No\n",
              "7       Yes\n",
              "8        No\n",
              "9       Yes"
            ]
          },
          "metadata": {},
          "execution_count": 8
        }
      ]
    },
    {
      "cell_type": "markdown",
      "metadata": {
        "id": "c71E87fMjJk5"
      },
      "source": [
        "#Taking care of missing data"
      ]
    },
    {
      "cell_type": "code",
      "metadata": {
        "id": "-mNbgA68jTz-"
      },
      "source": [
        "from sklearn.impute import SimpleImputer"
      ],
      "execution_count": 9,
      "outputs": []
    },
    {
      "cell_type": "markdown",
      "metadata": {
        "id": "wr5U4ziCjbC8"
      },
      "source": [
        "Here **'sklearn'** means sckit learn which is a package used for machine learning model. It contains many libraries.\n",
        "\n",
        "**preprocessing** is a library which contains several classes,methods.\n",
        "From this library we import the `Imputer` class which will allow us \n",
        "to take care of the missing data"
      ]
    },
    {
      "cell_type": "code",
      "metadata": {
        "id": "Gvj4XYkNjaQr"
      },
      "source": [
        "imputer = SimpleImputer(missing_values=np.nan,strategy = \"mean\") # imputer is an object of Imputer class \n",
        "imputer = imputer.fit(features[['Age','Salary']]) "
      ],
      "execution_count": 10,
      "outputs": []
    },
    {
      "cell_type": "markdown",
      "metadata": {
        "id": "Y9HYg3hJkjah"
      },
      "source": [
        "**fit()**: used for generating learning model parameters from training data\n",
        "\n",
        "**transform()** : parameters generated from fit() method,applied upon model to \n",
        "generate transformed data set.\n",
        "\n",
        "**fit_transform()** : combination of fit() and transform() api on same data set"
      ]
    },
    {
      "cell_type": "markdown",
      "metadata": {
        "id": "IFVNQzHxkjU7"
      },
      "source": [
        "We fit the imputer object into the X where only column 1 and 2 become fit.\n",
        "now we have to replace the missing value by mean into X"
      ]
    },
    {
      "cell_type": "code",
      "metadata": {
        "id": "h9UFac5Ik91i"
      },
      "source": [
        "features[['Age','Salary']]= imputer.transform(features[['Age','Salary']])"
      ],
      "execution_count": 11,
      "outputs": []
    },
    {
      "cell_type": "code",
      "metadata": {
        "colab": {
          "base_uri": "https://localhost:8080/",
          "height": 363
        },
        "id": "LDvNhBJzlIQZ",
        "outputId": "b585a28a-d29b-4655-8a99-98e4058127b6"
      },
      "source": [
        "features"
      ],
      "execution_count": 12,
      "outputs": [
        {
          "output_type": "execute_result",
          "data": {
            "text/html": [
              "<div>\n",
              "<style scoped>\n",
              "    .dataframe tbody tr th:only-of-type {\n",
              "        vertical-align: middle;\n",
              "    }\n",
              "\n",
              "    .dataframe tbody tr th {\n",
              "        vertical-align: top;\n",
              "    }\n",
              "\n",
              "    .dataframe thead th {\n",
              "        text-align: right;\n",
              "    }\n",
              "</style>\n",
              "<table border=\"1\" class=\"dataframe\">\n",
              "  <thead>\n",
              "    <tr style=\"text-align: right;\">\n",
              "      <th></th>\n",
              "      <th>Country</th>\n",
              "      <th>Age</th>\n",
              "      <th>Salary</th>\n",
              "    </tr>\n",
              "  </thead>\n",
              "  <tbody>\n",
              "    <tr>\n",
              "      <th>0</th>\n",
              "      <td>France</td>\n",
              "      <td>44.000000</td>\n",
              "      <td>72000.000000</td>\n",
              "    </tr>\n",
              "    <tr>\n",
              "      <th>1</th>\n",
              "      <td>Spain</td>\n",
              "      <td>27.000000</td>\n",
              "      <td>48000.000000</td>\n",
              "    </tr>\n",
              "    <tr>\n",
              "      <th>2</th>\n",
              "      <td>Germany</td>\n",
              "      <td>30.000000</td>\n",
              "      <td>54000.000000</td>\n",
              "    </tr>\n",
              "    <tr>\n",
              "      <th>3</th>\n",
              "      <td>Spain</td>\n",
              "      <td>38.000000</td>\n",
              "      <td>61000.000000</td>\n",
              "    </tr>\n",
              "    <tr>\n",
              "      <th>4</th>\n",
              "      <td>Germany</td>\n",
              "      <td>40.000000</td>\n",
              "      <td>63777.777778</td>\n",
              "    </tr>\n",
              "    <tr>\n",
              "      <th>5</th>\n",
              "      <td>France</td>\n",
              "      <td>35.000000</td>\n",
              "      <td>58000.000000</td>\n",
              "    </tr>\n",
              "    <tr>\n",
              "      <th>6</th>\n",
              "      <td>Spain</td>\n",
              "      <td>38.777778</td>\n",
              "      <td>52000.000000</td>\n",
              "    </tr>\n",
              "    <tr>\n",
              "      <th>7</th>\n",
              "      <td>France</td>\n",
              "      <td>48.000000</td>\n",
              "      <td>79000.000000</td>\n",
              "    </tr>\n",
              "    <tr>\n",
              "      <th>8</th>\n",
              "      <td>Germany</td>\n",
              "      <td>50.000000</td>\n",
              "      <td>83000.000000</td>\n",
              "    </tr>\n",
              "    <tr>\n",
              "      <th>9</th>\n",
              "      <td>France</td>\n",
              "      <td>37.000000</td>\n",
              "      <td>67000.000000</td>\n",
              "    </tr>\n",
              "  </tbody>\n",
              "</table>\n",
              "</div>"
            ],
            "text/plain": [
              "   Country        Age        Salary\n",
              "0   France  44.000000  72000.000000\n",
              "1    Spain  27.000000  48000.000000\n",
              "2  Germany  30.000000  54000.000000\n",
              "3    Spain  38.000000  61000.000000\n",
              "4  Germany  40.000000  63777.777778\n",
              "5   France  35.000000  58000.000000\n",
              "6    Spain  38.777778  52000.000000\n",
              "7   France  48.000000  79000.000000\n",
              "8  Germany  50.000000  83000.000000\n",
              "9   France  37.000000  67000.000000"
            ]
          },
          "metadata": {},
          "execution_count": 12
        }
      ]
    },
    {
      "cell_type": "code",
      "metadata": {
        "colab": {
          "base_uri": "https://localhost:8080/"
        },
        "id": "6kvuRSp1C52O",
        "outputId": "8ce3992f-dc8c-4877-911f-f096dd3157b4"
      },
      "source": [
        "features['Country'].unique()"
      ],
      "execution_count": 13,
      "outputs": [
        {
          "output_type": "execute_result",
          "data": {
            "text/plain": [
              "array(['France', 'Spain', 'Germany'], dtype=object)"
            ]
          },
          "metadata": {},
          "execution_count": 13
        }
      ]
    },
    {
      "cell_type": "code",
      "metadata": {
        "colab": {
          "base_uri": "https://localhost:8080/"
        },
        "id": "pz8Rp7bYDAHx",
        "outputId": "8a9bedb4-6c02-43b3-a75c-f4fbe1c1c8c8"
      },
      "source": [
        "features['Country'].value_counts()"
      ],
      "execution_count": 14,
      "outputs": [
        {
          "output_type": "execute_result",
          "data": {
            "text/plain": [
              "France     4\n",
              "Spain      3\n",
              "Germany    3\n",
              "Name: Country, dtype: int64"
            ]
          },
          "metadata": {},
          "execution_count": 14
        }
      ]
    },
    {
      "cell_type": "markdown",
      "metadata": {
        "id": "P-qoOVkkldGS"
      },
      "source": [
        "#Encoding Categorial data "
      ]
    },
    {
      "cell_type": "code",
      "metadata": {
        "id": "_E2rkoOhlmxx"
      },
      "source": [
        "from sklearn.preprocessing import LabelEncoder,OneHotEncoder"
      ],
      "execution_count": 16,
      "outputs": []
    },
    {
      "cell_type": "markdown",
      "metadata": {
        "id": "wWGUH04toKDu"
      },
      "source": [
        "##Label Encoding"
      ]
    },
    {
      "cell_type": "code",
      "metadata": {
        "id": "6bb-wbbblpMN"
      },
      "source": [
        "labelencoder_f = LabelEncoder()\n",
        "#the country column is represented by numeric value\n",
        "features['Country'] = labelencoder_f.fit_transform(features['Country'])"
      ],
      "execution_count": 17,
      "outputs": []
    },
    {
      "cell_type": "code",
      "metadata": {
        "id": "yIlWLyHKl5Ec",
        "colab": {
          "base_uri": "https://localhost:8080/",
          "height": 363
        },
        "outputId": "abf31a46-ceaa-467f-ac6e-eacf08d631b8"
      },
      "source": [
        "features"
      ],
      "execution_count": 18,
      "outputs": [
        {
          "output_type": "execute_result",
          "data": {
            "text/html": [
              "<div>\n",
              "<style scoped>\n",
              "    .dataframe tbody tr th:only-of-type {\n",
              "        vertical-align: middle;\n",
              "    }\n",
              "\n",
              "    .dataframe tbody tr th {\n",
              "        vertical-align: top;\n",
              "    }\n",
              "\n",
              "    .dataframe thead th {\n",
              "        text-align: right;\n",
              "    }\n",
              "</style>\n",
              "<table border=\"1\" class=\"dataframe\">\n",
              "  <thead>\n",
              "    <tr style=\"text-align: right;\">\n",
              "      <th></th>\n",
              "      <th>Country</th>\n",
              "      <th>Age</th>\n",
              "      <th>Salary</th>\n",
              "    </tr>\n",
              "  </thead>\n",
              "  <tbody>\n",
              "    <tr>\n",
              "      <th>0</th>\n",
              "      <td>0</td>\n",
              "      <td>44.000000</td>\n",
              "      <td>72000.000000</td>\n",
              "    </tr>\n",
              "    <tr>\n",
              "      <th>1</th>\n",
              "      <td>2</td>\n",
              "      <td>27.000000</td>\n",
              "      <td>48000.000000</td>\n",
              "    </tr>\n",
              "    <tr>\n",
              "      <th>2</th>\n",
              "      <td>1</td>\n",
              "      <td>30.000000</td>\n",
              "      <td>54000.000000</td>\n",
              "    </tr>\n",
              "    <tr>\n",
              "      <th>3</th>\n",
              "      <td>2</td>\n",
              "      <td>38.000000</td>\n",
              "      <td>61000.000000</td>\n",
              "    </tr>\n",
              "    <tr>\n",
              "      <th>4</th>\n",
              "      <td>1</td>\n",
              "      <td>40.000000</td>\n",
              "      <td>63777.777778</td>\n",
              "    </tr>\n",
              "    <tr>\n",
              "      <th>5</th>\n",
              "      <td>0</td>\n",
              "      <td>35.000000</td>\n",
              "      <td>58000.000000</td>\n",
              "    </tr>\n",
              "    <tr>\n",
              "      <th>6</th>\n",
              "      <td>2</td>\n",
              "      <td>38.777778</td>\n",
              "      <td>52000.000000</td>\n",
              "    </tr>\n",
              "    <tr>\n",
              "      <th>7</th>\n",
              "      <td>0</td>\n",
              "      <td>48.000000</td>\n",
              "      <td>79000.000000</td>\n",
              "    </tr>\n",
              "    <tr>\n",
              "      <th>8</th>\n",
              "      <td>1</td>\n",
              "      <td>50.000000</td>\n",
              "      <td>83000.000000</td>\n",
              "    </tr>\n",
              "    <tr>\n",
              "      <th>9</th>\n",
              "      <td>0</td>\n",
              "      <td>37.000000</td>\n",
              "      <td>67000.000000</td>\n",
              "    </tr>\n",
              "  </tbody>\n",
              "</table>\n",
              "</div>"
            ],
            "text/plain": [
              "   Country        Age        Salary\n",
              "0        0  44.000000  72000.000000\n",
              "1        2  27.000000  48000.000000\n",
              "2        1  30.000000  54000.000000\n",
              "3        2  38.000000  61000.000000\n",
              "4        1  40.000000  63777.777778\n",
              "5        0  35.000000  58000.000000\n",
              "6        2  38.777778  52000.000000\n",
              "7        0  48.000000  79000.000000\n",
              "8        1  50.000000  83000.000000\n",
              "9        0  37.000000  67000.000000"
            ]
          },
          "metadata": {},
          "execution_count": 18
        }
      ]
    },
    {
      "cell_type": "code",
      "metadata": {
        "id": "FCUBs8w6GrCE"
      },
      "source": [
        "dataset[['Country']]"
      ],
      "execution_count": null,
      "outputs": []
    },
    {
      "cell_type": "code",
      "metadata": {
        "colab": {
          "base_uri": "https://localhost:8080/",
          "height": 363
        },
        "id": "PWFmHVl0HFdh",
        "outputId": "80defa59-4670-484f-ed35-c30d6f116654"
      },
      "source": [
        "features['Cat_Country'] = dataset['Country']\n",
        "features"
      ],
      "execution_count": 28,
      "outputs": [
        {
          "output_type": "execute_result",
          "data": {
            "text/html": [
              "<div>\n",
              "<style scoped>\n",
              "    .dataframe tbody tr th:only-of-type {\n",
              "        vertical-align: middle;\n",
              "    }\n",
              "\n",
              "    .dataframe tbody tr th {\n",
              "        vertical-align: top;\n",
              "    }\n",
              "\n",
              "    .dataframe thead th {\n",
              "        text-align: right;\n",
              "    }\n",
              "</style>\n",
              "<table border=\"1\" class=\"dataframe\">\n",
              "  <thead>\n",
              "    <tr style=\"text-align: right;\">\n",
              "      <th></th>\n",
              "      <th>Country</th>\n",
              "      <th>Age</th>\n",
              "      <th>Salary</th>\n",
              "      <th>Cat_Country</th>\n",
              "    </tr>\n",
              "  </thead>\n",
              "  <tbody>\n",
              "    <tr>\n",
              "      <th>0</th>\n",
              "      <td>0</td>\n",
              "      <td>44.000000</td>\n",
              "      <td>72000.000000</td>\n",
              "      <td>France</td>\n",
              "    </tr>\n",
              "    <tr>\n",
              "      <th>1</th>\n",
              "      <td>2</td>\n",
              "      <td>27.000000</td>\n",
              "      <td>48000.000000</td>\n",
              "      <td>Spain</td>\n",
              "    </tr>\n",
              "    <tr>\n",
              "      <th>2</th>\n",
              "      <td>1</td>\n",
              "      <td>30.000000</td>\n",
              "      <td>54000.000000</td>\n",
              "      <td>Germany</td>\n",
              "    </tr>\n",
              "    <tr>\n",
              "      <th>3</th>\n",
              "      <td>2</td>\n",
              "      <td>38.000000</td>\n",
              "      <td>61000.000000</td>\n",
              "      <td>Spain</td>\n",
              "    </tr>\n",
              "    <tr>\n",
              "      <th>4</th>\n",
              "      <td>1</td>\n",
              "      <td>40.000000</td>\n",
              "      <td>63777.777778</td>\n",
              "      <td>Germany</td>\n",
              "    </tr>\n",
              "    <tr>\n",
              "      <th>5</th>\n",
              "      <td>0</td>\n",
              "      <td>35.000000</td>\n",
              "      <td>58000.000000</td>\n",
              "      <td>France</td>\n",
              "    </tr>\n",
              "    <tr>\n",
              "      <th>6</th>\n",
              "      <td>2</td>\n",
              "      <td>38.777778</td>\n",
              "      <td>52000.000000</td>\n",
              "      <td>Spain</td>\n",
              "    </tr>\n",
              "    <tr>\n",
              "      <th>7</th>\n",
              "      <td>0</td>\n",
              "      <td>48.000000</td>\n",
              "      <td>79000.000000</td>\n",
              "      <td>France</td>\n",
              "    </tr>\n",
              "    <tr>\n",
              "      <th>8</th>\n",
              "      <td>1</td>\n",
              "      <td>50.000000</td>\n",
              "      <td>83000.000000</td>\n",
              "      <td>Germany</td>\n",
              "    </tr>\n",
              "    <tr>\n",
              "      <th>9</th>\n",
              "      <td>0</td>\n",
              "      <td>37.000000</td>\n",
              "      <td>67000.000000</td>\n",
              "      <td>France</td>\n",
              "    </tr>\n",
              "  </tbody>\n",
              "</table>\n",
              "</div>"
            ],
            "text/plain": [
              "   Country        Age        Salary Cat_Country\n",
              "0        0  44.000000  72000.000000      France\n",
              "1        2  27.000000  48000.000000       Spain\n",
              "2        1  30.000000  54000.000000     Germany\n",
              "3        2  38.000000  61000.000000       Spain\n",
              "4        1  40.000000  63777.777778     Germany\n",
              "5        0  35.000000  58000.000000      France\n",
              "6        2  38.777778  52000.000000       Spain\n",
              "7        0  48.000000  79000.000000      France\n",
              "8        1  50.000000  83000.000000     Germany\n",
              "9        0  37.000000  67000.000000      France"
            ]
          },
          "metadata": {},
          "execution_count": 28
        }
      ]
    },
    {
      "cell_type": "markdown",
      "metadata": {
        "id": "VZGTYqdtoNeC"
      },
      "source": [
        "##One Hot Encoding"
      ]
    },
    {
      "cell_type": "markdown",
      "metadata": {
        "id": "jFoNj3oGmF8G"
      },
      "source": [
        "But this will create a problem as it consider the 2 as greater than 1 and more. For this the Dummy encoding is used where for a country the value is 1 and for the remaining country 0"
      ]
    },
    {
      "cell_type": "code",
      "metadata": {
        "id": "ymK3sX_cnniN"
      },
      "source": [
        "encoder=OneHotEncoder(sparse=False)\n",
        "encoded_labels = pd.DataFrame(encoder.fit_transform(features[['Cat_Country']]))"
      ],
      "execution_count": 41,
      "outputs": []
    },
    {
      "cell_type": "code",
      "metadata": {
        "colab": {
          "base_uri": "https://localhost:8080/",
          "height": 363
        },
        "id": "4NPeSXRBHeDz",
        "outputId": "50c048ca-12a9-4ffd-9ec7-92e9f55a822a"
      },
      "source": [
        "encoded_labels"
      ],
      "execution_count": 42,
      "outputs": [
        {
          "output_type": "execute_result",
          "data": {
            "text/html": [
              "<div>\n",
              "<style scoped>\n",
              "    .dataframe tbody tr th:only-of-type {\n",
              "        vertical-align: middle;\n",
              "    }\n",
              "\n",
              "    .dataframe tbody tr th {\n",
              "        vertical-align: top;\n",
              "    }\n",
              "\n",
              "    .dataframe thead th {\n",
              "        text-align: right;\n",
              "    }\n",
              "</style>\n",
              "<table border=\"1\" class=\"dataframe\">\n",
              "  <thead>\n",
              "    <tr style=\"text-align: right;\">\n",
              "      <th></th>\n",
              "      <th>0</th>\n",
              "      <th>1</th>\n",
              "      <th>2</th>\n",
              "    </tr>\n",
              "  </thead>\n",
              "  <tbody>\n",
              "    <tr>\n",
              "      <th>0</th>\n",
              "      <td>1.0</td>\n",
              "      <td>0.0</td>\n",
              "      <td>0.0</td>\n",
              "    </tr>\n",
              "    <tr>\n",
              "      <th>1</th>\n",
              "      <td>0.0</td>\n",
              "      <td>0.0</td>\n",
              "      <td>1.0</td>\n",
              "    </tr>\n",
              "    <tr>\n",
              "      <th>2</th>\n",
              "      <td>0.0</td>\n",
              "      <td>1.0</td>\n",
              "      <td>0.0</td>\n",
              "    </tr>\n",
              "    <tr>\n",
              "      <th>3</th>\n",
              "      <td>0.0</td>\n",
              "      <td>0.0</td>\n",
              "      <td>1.0</td>\n",
              "    </tr>\n",
              "    <tr>\n",
              "      <th>4</th>\n",
              "      <td>0.0</td>\n",
              "      <td>1.0</td>\n",
              "      <td>0.0</td>\n",
              "    </tr>\n",
              "    <tr>\n",
              "      <th>5</th>\n",
              "      <td>1.0</td>\n",
              "      <td>0.0</td>\n",
              "      <td>0.0</td>\n",
              "    </tr>\n",
              "    <tr>\n",
              "      <th>6</th>\n",
              "      <td>0.0</td>\n",
              "      <td>0.0</td>\n",
              "      <td>1.0</td>\n",
              "    </tr>\n",
              "    <tr>\n",
              "      <th>7</th>\n",
              "      <td>1.0</td>\n",
              "      <td>0.0</td>\n",
              "      <td>0.0</td>\n",
              "    </tr>\n",
              "    <tr>\n",
              "      <th>8</th>\n",
              "      <td>0.0</td>\n",
              "      <td>1.0</td>\n",
              "      <td>0.0</td>\n",
              "    </tr>\n",
              "    <tr>\n",
              "      <th>9</th>\n",
              "      <td>1.0</td>\n",
              "      <td>0.0</td>\n",
              "      <td>0.0</td>\n",
              "    </tr>\n",
              "  </tbody>\n",
              "</table>\n",
              "</div>"
            ],
            "text/plain": [
              "     0    1    2\n",
              "0  1.0  0.0  0.0\n",
              "1  0.0  0.0  1.0\n",
              "2  0.0  1.0  0.0\n",
              "3  0.0  0.0  1.0\n",
              "4  0.0  1.0  0.0\n",
              "5  1.0  0.0  0.0\n",
              "6  0.0  0.0  1.0\n",
              "7  1.0  0.0  0.0\n",
              "8  0.0  1.0  0.0\n",
              "9  1.0  0.0  0.0"
            ]
          },
          "metadata": {},
          "execution_count": 42
        }
      ]
    },
    {
      "cell_type": "code",
      "metadata": {
        "colab": {
          "base_uri": "https://localhost:8080/"
        },
        "id": "6VBhyT6xIO5T",
        "outputId": "38e2053b-19e1-4ccf-ea24-ce3a8b8ddc39"
      },
      "source": [
        "encoder.get_feature_names(['Country'])"
      ],
      "execution_count": 44,
      "outputs": [
        {
          "output_type": "execute_result",
          "data": {
            "text/plain": [
              "array(['Country_France', 'Country_Germany', 'Country_Spain'], dtype=object)"
            ]
          },
          "metadata": {},
          "execution_count": 44
        }
      ]
    },
    {
      "cell_type": "code",
      "metadata": {
        "id": "DFU6GGTLn3Tf"
      },
      "source": [
        "encoded_labels.columns = encoder.get_feature_names(['Country'])\n"
      ],
      "execution_count": 43,
      "outputs": []
    },
    {
      "cell_type": "code",
      "metadata": {
        "colab": {
          "base_uri": "https://localhost:8080/",
          "height": 363
        },
        "id": "dwCcQwAIINx8",
        "outputId": "25b9c59d-8898-421f-d5e8-e630fd1717da"
      },
      "source": [
        "dataset= pd.concat([features, encoded_labels], axis=1)\n",
        "dataset"
      ],
      "execution_count": 45,
      "outputs": [
        {
          "output_type": "execute_result",
          "data": {
            "text/html": [
              "<div>\n",
              "<style scoped>\n",
              "    .dataframe tbody tr th:only-of-type {\n",
              "        vertical-align: middle;\n",
              "    }\n",
              "\n",
              "    .dataframe tbody tr th {\n",
              "        vertical-align: top;\n",
              "    }\n",
              "\n",
              "    .dataframe thead th {\n",
              "        text-align: right;\n",
              "    }\n",
              "</style>\n",
              "<table border=\"1\" class=\"dataframe\">\n",
              "  <thead>\n",
              "    <tr style=\"text-align: right;\">\n",
              "      <th></th>\n",
              "      <th>Country</th>\n",
              "      <th>Age</th>\n",
              "      <th>Salary</th>\n",
              "      <th>Cat_Country</th>\n",
              "      <th>Country_France</th>\n",
              "      <th>Country_Germany</th>\n",
              "      <th>Country_Spain</th>\n",
              "    </tr>\n",
              "  </thead>\n",
              "  <tbody>\n",
              "    <tr>\n",
              "      <th>0</th>\n",
              "      <td>0</td>\n",
              "      <td>44.000000</td>\n",
              "      <td>72000.000000</td>\n",
              "      <td>France</td>\n",
              "      <td>1.0</td>\n",
              "      <td>0.0</td>\n",
              "      <td>0.0</td>\n",
              "    </tr>\n",
              "    <tr>\n",
              "      <th>1</th>\n",
              "      <td>2</td>\n",
              "      <td>27.000000</td>\n",
              "      <td>48000.000000</td>\n",
              "      <td>Spain</td>\n",
              "      <td>0.0</td>\n",
              "      <td>0.0</td>\n",
              "      <td>1.0</td>\n",
              "    </tr>\n",
              "    <tr>\n",
              "      <th>2</th>\n",
              "      <td>1</td>\n",
              "      <td>30.000000</td>\n",
              "      <td>54000.000000</td>\n",
              "      <td>Germany</td>\n",
              "      <td>0.0</td>\n",
              "      <td>1.0</td>\n",
              "      <td>0.0</td>\n",
              "    </tr>\n",
              "    <tr>\n",
              "      <th>3</th>\n",
              "      <td>2</td>\n",
              "      <td>38.000000</td>\n",
              "      <td>61000.000000</td>\n",
              "      <td>Spain</td>\n",
              "      <td>0.0</td>\n",
              "      <td>0.0</td>\n",
              "      <td>1.0</td>\n",
              "    </tr>\n",
              "    <tr>\n",
              "      <th>4</th>\n",
              "      <td>1</td>\n",
              "      <td>40.000000</td>\n",
              "      <td>63777.777778</td>\n",
              "      <td>Germany</td>\n",
              "      <td>0.0</td>\n",
              "      <td>1.0</td>\n",
              "      <td>0.0</td>\n",
              "    </tr>\n",
              "    <tr>\n",
              "      <th>5</th>\n",
              "      <td>0</td>\n",
              "      <td>35.000000</td>\n",
              "      <td>58000.000000</td>\n",
              "      <td>France</td>\n",
              "      <td>1.0</td>\n",
              "      <td>0.0</td>\n",
              "      <td>0.0</td>\n",
              "    </tr>\n",
              "    <tr>\n",
              "      <th>6</th>\n",
              "      <td>2</td>\n",
              "      <td>38.777778</td>\n",
              "      <td>52000.000000</td>\n",
              "      <td>Spain</td>\n",
              "      <td>0.0</td>\n",
              "      <td>0.0</td>\n",
              "      <td>1.0</td>\n",
              "    </tr>\n",
              "    <tr>\n",
              "      <th>7</th>\n",
              "      <td>0</td>\n",
              "      <td>48.000000</td>\n",
              "      <td>79000.000000</td>\n",
              "      <td>France</td>\n",
              "      <td>1.0</td>\n",
              "      <td>0.0</td>\n",
              "      <td>0.0</td>\n",
              "    </tr>\n",
              "    <tr>\n",
              "      <th>8</th>\n",
              "      <td>1</td>\n",
              "      <td>50.000000</td>\n",
              "      <td>83000.000000</td>\n",
              "      <td>Germany</td>\n",
              "      <td>0.0</td>\n",
              "      <td>1.0</td>\n",
              "      <td>0.0</td>\n",
              "    </tr>\n",
              "    <tr>\n",
              "      <th>9</th>\n",
              "      <td>0</td>\n",
              "      <td>37.000000</td>\n",
              "      <td>67000.000000</td>\n",
              "      <td>France</td>\n",
              "      <td>1.0</td>\n",
              "      <td>0.0</td>\n",
              "      <td>0.0</td>\n",
              "    </tr>\n",
              "  </tbody>\n",
              "</table>\n",
              "</div>"
            ],
            "text/plain": [
              "   Country        Age  ...  Country_Germany Country_Spain\n",
              "0        0  44.000000  ...              0.0           0.0\n",
              "1        2  27.000000  ...              0.0           1.0\n",
              "2        1  30.000000  ...              1.0           0.0\n",
              "3        2  38.000000  ...              0.0           1.0\n",
              "4        1  40.000000  ...              1.0           0.0\n",
              "5        0  35.000000  ...              0.0           0.0\n",
              "6        2  38.777778  ...              0.0           1.0\n",
              "7        0  48.000000  ...              0.0           0.0\n",
              "8        1  50.000000  ...              1.0           0.0\n",
              "9        0  37.000000  ...              0.0           0.0\n",
              "\n",
              "[10 rows x 7 columns]"
            ]
          },
          "metadata": {},
          "execution_count": 45
        }
      ]
    },
    {
      "cell_type": "code",
      "metadata": {
        "id": "04V2eMa3oHJ1",
        "colab": {
          "base_uri": "https://localhost:8080/"
        },
        "outputId": "ea87dbdc-ee09-4389-a25a-88fc26d2587b"
      },
      "source": [
        "dataset.columns"
      ],
      "execution_count": 47,
      "outputs": [
        {
          "output_type": "execute_result",
          "data": {
            "text/plain": [
              "Index(['Country', 'Age', 'Salary', 'Cat_Country', 'Country_France',\n",
              "       'Country_Germany', 'Country_Spain'],\n",
              "      dtype='object')"
            ]
          },
          "metadata": {},
          "execution_count": 47
        }
      ]
    },
    {
      "cell_type": "markdown",
      "metadata": {
        "id": "b3IlFpapoYJA"
      },
      "source": [
        "##Label Encoding (Target Variable)"
      ]
    },
    {
      "cell_type": "code",
      "metadata": {
        "colab": {
          "base_uri": "https://localhost:8080/"
        },
        "id": "kPkhewm1oZk-",
        "outputId": "7238d8ae-2b3a-4a16-bbcf-40c35d6af978"
      },
      "source": [
        "labelencoder_t = LabelEncoder()\n",
        "target = labelencoder_t.fit_transform(target)\n",
        "target"
      ],
      "execution_count": null,
      "outputs": [
        {
          "output_type": "execute_result",
          "data": {
            "text/plain": [
              "array([0, 1, 0, 0, 1, 1, 0, 1, 0, 1])"
            ]
          },
          "metadata": {},
          "execution_count": 36
        }
      ]
    },
    {
      "cell_type": "code",
      "metadata": {
        "id": "ccH4oXH7MhUa"
      },
      "source": [
        "features = dataset[['Country',\t'Age',\t'Salary']]"
      ],
      "execution_count": 54,
      "outputs": []
    },
    {
      "cell_type": "markdown",
      "metadata": {
        "id": "azmcrMicoru3"
      },
      "source": [
        "#Splitting the Dataset"
      ]
    },
    {
      "cell_type": "code",
      "metadata": {
        "id": "Q8l1QMbuo0fq"
      },
      "source": [
        "from sklearn.model_selection import train_test_split"
      ],
      "execution_count": 51,
      "outputs": []
    },
    {
      "cell_type": "code",
      "metadata": {
        "id": "QLjV41K_oxSg"
      },
      "source": [
        "\"\"\"Spliting the Dataset into Training Set and Test Set \"\"\"\n",
        "\n",
        "X_train,X_test,y_train,y_test=train_test_split(features,target,test_size=0.2,random_state=0)\n",
        "# random_state = 0 is select to get the same result"
      ],
      "execution_count": 55,
      "outputs": []
    },
    {
      "cell_type": "code",
      "metadata": {
        "colab": {
          "base_uri": "https://localhost:8080/"
        },
        "id": "YDzGdXXrpBlc",
        "outputId": "540b0564-73eb-4b31-9c5d-c07d09e3aed6"
      },
      "source": [
        "print(X_train.shape)\n",
        "print(X_test.shape)"
      ],
      "execution_count": 56,
      "outputs": [
        {
          "output_type": "stream",
          "name": "stdout",
          "text": [
            "(8, 3)\n",
            "(2, 3)\n"
          ]
        }
      ]
    },
    {
      "cell_type": "code",
      "metadata": {
        "id": "KZWjA9QSpJTJ",
        "colab": {
          "base_uri": "https://localhost:8080/",
          "height": 300
        },
        "outputId": "76f01ade-ce70-4779-dbec-9e3f03dded70"
      },
      "source": [
        "X_train"
      ],
      "execution_count": 57,
      "outputs": [
        {
          "output_type": "execute_result",
          "data": {
            "text/html": [
              "<div>\n",
              "<style scoped>\n",
              "    .dataframe tbody tr th:only-of-type {\n",
              "        vertical-align: middle;\n",
              "    }\n",
              "\n",
              "    .dataframe tbody tr th {\n",
              "        vertical-align: top;\n",
              "    }\n",
              "\n",
              "    .dataframe thead th {\n",
              "        text-align: right;\n",
              "    }\n",
              "</style>\n",
              "<table border=\"1\" class=\"dataframe\">\n",
              "  <thead>\n",
              "    <tr style=\"text-align: right;\">\n",
              "      <th></th>\n",
              "      <th>Country</th>\n",
              "      <th>Age</th>\n",
              "      <th>Salary</th>\n",
              "    </tr>\n",
              "  </thead>\n",
              "  <tbody>\n",
              "    <tr>\n",
              "      <th>4</th>\n",
              "      <td>1</td>\n",
              "      <td>40.000000</td>\n",
              "      <td>63777.777778</td>\n",
              "    </tr>\n",
              "    <tr>\n",
              "      <th>9</th>\n",
              "      <td>0</td>\n",
              "      <td>37.000000</td>\n",
              "      <td>67000.000000</td>\n",
              "    </tr>\n",
              "    <tr>\n",
              "      <th>1</th>\n",
              "      <td>2</td>\n",
              "      <td>27.000000</td>\n",
              "      <td>48000.000000</td>\n",
              "    </tr>\n",
              "    <tr>\n",
              "      <th>6</th>\n",
              "      <td>2</td>\n",
              "      <td>38.777778</td>\n",
              "      <td>52000.000000</td>\n",
              "    </tr>\n",
              "    <tr>\n",
              "      <th>7</th>\n",
              "      <td>0</td>\n",
              "      <td>48.000000</td>\n",
              "      <td>79000.000000</td>\n",
              "    </tr>\n",
              "    <tr>\n",
              "      <th>3</th>\n",
              "      <td>2</td>\n",
              "      <td>38.000000</td>\n",
              "      <td>61000.000000</td>\n",
              "    </tr>\n",
              "    <tr>\n",
              "      <th>0</th>\n",
              "      <td>0</td>\n",
              "      <td>44.000000</td>\n",
              "      <td>72000.000000</td>\n",
              "    </tr>\n",
              "    <tr>\n",
              "      <th>5</th>\n",
              "      <td>0</td>\n",
              "      <td>35.000000</td>\n",
              "      <td>58000.000000</td>\n",
              "    </tr>\n",
              "  </tbody>\n",
              "</table>\n",
              "</div>"
            ],
            "text/plain": [
              "   Country        Age        Salary\n",
              "4        1  40.000000  63777.777778\n",
              "9        0  37.000000  67000.000000\n",
              "1        2  27.000000  48000.000000\n",
              "6        2  38.777778  52000.000000\n",
              "7        0  48.000000  79000.000000\n",
              "3        2  38.000000  61000.000000\n",
              "0        0  44.000000  72000.000000\n",
              "5        0  35.000000  58000.000000"
            ]
          },
          "metadata": {},
          "execution_count": 57
        }
      ]
    },
    {
      "cell_type": "markdown",
      "metadata": {
        "id": "U_ZHVK69pYDE"
      },
      "source": [
        "##Feature Scaling\n",
        "\n",
        "It is necessary because sometimes a large value in the variable can dominate the small value. \n"
      ]
    },
    {
      "cell_type": "markdown",
      "metadata": {
        "id": "-e3DqbCYpiO2"
      },
      "source": [
        "These methods are used to center/feature scale the given data. \n",
        "It basically helps to normalize the data within a particular range\n",
        "\n",
        "For this, we use Z-score method.\n",
        "\n",
        "`Z = (x-mu)/std`\n",
        "\n",
        "We do this on the training set of data.\n",
        "\n",
        "1.Fit(): Method calculates the parameters μ and σ and saves them as internal objects.\n",
        "\n",
        "2.Transform(): Method using these calculated parameters apply the transformation to a particular dataset.\n",
        "\n",
        "3.Fit_transform(): joins the fit() and transform() method for transformation of dataset."
      ]
    },
    {
      "cell_type": "code",
      "metadata": {
        "id": "uFYyeZydh_nH"
      },
      "source": [
        "from sklearn.preprocessing import StandardScaler\n",
        "X_sc = StandardScaler()\n",
        "X_train = X_sc.fit_transform(X_train)\n",
        "X_test = X_sc.transform(X_test)"
      ],
      "execution_count": 59,
      "outputs": []
    },
    {
      "cell_type": "code",
      "metadata": {
        "colab": {
          "base_uri": "https://localhost:8080/"
        },
        "id": "fzxFhz-DPjaz",
        "outputId": "87de65bd-4454-4121-f340-075537d2adff"
      },
      "source": [
        "X_train"
      ],
      "execution_count": 60,
      "outputs": [
        {
          "output_type": "execute_result",
          "data": {
            "text/plain": [
              "array([[ 0.13483997,  0.26306757,  0.12381479],\n",
              "       [-0.94387981, -0.25350148,  0.46175632],\n",
              "       [ 1.21355975, -1.97539832, -1.53093341],\n",
              "       [ 1.21355975,  0.05261351, -1.11141978],\n",
              "       [-0.94387981,  1.64058505,  1.7202972 ],\n",
              "       [ 1.21355975, -0.0813118 , -0.16751412],\n",
              "       [-0.94387981,  0.95182631,  0.98614835],\n",
              "       [-0.94387981, -0.59788085, -0.48214934]])"
            ]
          },
          "metadata": {},
          "execution_count": 60
        }
      ]
    },
    {
      "cell_type": "markdown",
      "metadata": {
        "id": "KMyoaDOjs8hF"
      },
      "source": [
        "#Reference\n",
        "\n",
        "\n",
        "1.   [SuperDataScience](https://www.superdatascience.com/pages/machine-learning)\n",
        "\n"
      ]
    }
  ]
}